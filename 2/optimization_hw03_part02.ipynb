{
  "cells": [
    {
      "cell_type": "code",
      "execution_count": 1,
      "metadata": {
        "colab": {
          "base_uri": "https://localhost:8080/"
        },
        "id": "ujFBp9L-Rpvq",
        "outputId": "bc7f80ae-13c3-4dae-bea5-dcd961d5686b"
      },
      "outputs": [
        {
          "name": "stdout",
          "output_type": "stream",
          "text": [
            "Looking in indexes: https://pypi.org/simple, https://us-python.pkg.dev/colab-wheels/public/simple/\n",
            "Requirement already satisfied: ortools in /usr/local/lib/python3.8/dist-packages (9.5.2237)\n",
            "Requirement already satisfied: numpy>=1.13.3 in /usr/local/lib/python3.8/dist-packages (from ortools) (1.21.6)\n",
            "Requirement already satisfied: protobuf>=4.21.5 in /usr/local/lib/python3.8/dist-packages (from ortools) (4.21.12)\n",
            "Requirement already satisfied: absl-py>=0.13 in /usr/local/lib/python3.8/dist-packages (from ortools) (1.3.0)\n"
          ]
        }
      ],
      "source": [
        "%pip install ortools"
      ]
    },
    {
      "cell_type": "code",
      "execution_count": 2,
      "metadata": {
        "id": "YGlpH4R7Rt6C"
      },
      "outputs": [],
      "source": [
        "import ortools\n",
        "import numpy as np\n",
        "import pandas as pd\n",
        "from ortools.linear_solver import pywraplp\n",
        "import matplotlib.pyplot as plt"
      ]
    },
    {
      "cell_type": "code",
      "execution_count": 3,
      "metadata": {
        "id": "gSLbGBw3eYOx"
      },
      "outputs": [],
      "source": [
        "def plot_vertxs(vertexs):\n",
        "  for item in vertexs:\n",
        "      plt.plot(item)\n",
        "  plt.show()"
      ]
    },
    {
      "cell_type": "code",
      "execution_count": 4,
      "metadata": {
        "id": "W5jNQkxpuB2K"
      },
      "outputs": [],
      "source": [
        "def read_file(path):\n",
        "    print(path)\n",
        "\n",
        "    file = open(path, 'r')\n",
        "    for line in file:\n",
        "        n, k = line.split()\n",
        "        break\n",
        "\n",
        "    df = pd.read_csv(path, sep=' ', header=None, skiprows=1)\n",
        "    all_ver=df.to_numpy()\n",
        "    # display(df)\n",
        "    # print(df.to_numpy())\n",
        "\n",
        "    # for item in df.to_numpy():\n",
        "    #   plt.plot(item)\n",
        "\n",
        "    return  n, k,all_ver, path"
      ]
    },
    {
      "cell_type": "code",
      "execution_count": 16,
      "metadata": {
        "id": "UmFuWpTLpTQO"
      },
      "outputs": [],
      "source": [
        "def has_conflict(a,b):\n",
        "  state=[]\n",
        "  k=len(a)\n",
        "  for index in range(k):\n",
        "    if(a[index]==b[index]): \n",
        "      state.append(0)\n",
        "    elif(a[index]>b[index]):\n",
        "      state.append(1)\n",
        "    elif(a[index]<b[index]):\n",
        "      state.append(2)\n",
        "  bool_state=[]\n",
        "  for i in range(len(state)):\n",
        "    bool_state.append((i,(state[0]==state[i])))\n",
        "  res=None\n",
        "  for item in bool_state:\n",
        "    if item[1]==False:\n",
        "      res=item[0]\n",
        "  \n",
        "  return res,res!=None"
      ]
    },
    {
      "cell_type": "code",
      "execution_count": 17,
      "metadata": {
        "id": "NPuU4aEyCVMn"
      },
      "outputs": [],
      "source": [
        "def vers_conflict(vers):\n",
        "  res={}\n",
        "  for i in range(len(vers)):\n",
        "    new_range=list(range(len(vers))).copy()\n",
        "    new_range.remove(i)\n",
        "    for j in new_range:\n",
        "      item1=vers[i]\n",
        "      item2=vers[j]\n",
        "      hc=has_conflict(item1,item2)[1]\n",
        "      if(hc==False and (j,i) not in res.keys()):\n",
        "        res[(i,j)]=0\n",
        "      elif((j,i) not in res.keys()):\n",
        "        res[(i,j)]=1\n",
        "  \n",
        "  return res\n"
      ]
    },
    {
      "cell_type": "code",
      "execution_count": 18,
      "metadata": {
        "id": "QewWFMrU1orX"
      },
      "outputs": [],
      "source": [
        "def create_data_model(n,all_ver):\n",
        "    \"\"\"Create the data for the example.\"\"\"\n",
        "    data = {}\n",
        "    weights = np.ones(n)\n",
        "    data['weights'] = weights\n",
        "    data['items'] = list(range(len(weights)))\n",
        "    data['bins'] =data['items']\n",
        "    data['has_conflicts']=vers_conflict(all_ver)\n",
        "    data['bin_capacity'] = n\n",
        "    # print(data['has_conflicts'])\n",
        "    return data"
      ]
    },
    {
      "cell_type": "code",
      "execution_count": 19,
      "metadata": {
        "id": "EDNQ0DjwyCfM"
      },
      "outputs": [],
      "source": [
        "from ortools.linear_solver import pywraplp\n",
        "def optimize(n, k,all_ver, path):\n",
        "  data = create_data_model(int(n),all_ver)\n",
        "\n",
        "  # Create the mip solver with the SCIP backend.\n",
        "  solver = pywraplp.Solver.CreateSolver('SCIP')\n",
        "\n",
        "  if not solver:\n",
        "      print('Solver init error')\n",
        "\n",
        "  # Variables\n",
        "  # x[i, j] = 1 if item i is packed in bin j.\n",
        "  x = {}\n",
        "  for i in data['items']:\n",
        "      for j in data['bins']:\n",
        "          x[(i, j)] = solver.IntVar(0, 1, 'x_%i_%i' % (i, j))\n",
        "  \n",
        "  # y[j] = 1 if bin j is used.\n",
        "  y = {}\n",
        "  for j in data['bins']:\n",
        "      y[j] = solver.IntVar(0, 1, 'y[%i]' % j)\n",
        "\n",
        "  # Constraints\n",
        "  # Each item must be in exactly one bin.\n",
        "  for i in data['items']:\n",
        "      solver.Add(sum(x[i, j] for j in data['bins']) == 1)\n",
        "\n",
        "  # The amount packed in each bin cannot exceed its capacity.\n",
        "  for j in data['bins']:\n",
        "      solver.Add(\n",
        "          sum(x[(i, j)] * data['weights'][i] for i in data['items']) <= y[j] *\n",
        "          data['bin_capacity'])\n",
        "\n",
        "  # conflicts constraint\n",
        "  for bin in data['bins']:\n",
        "    bin_items_index=[]\n",
        "    for value in x.keys():\n",
        "      if value[1]==bin:\n",
        "        bin_items_index.append(value[0])\n",
        "        pass\n",
        "      pass\n",
        "    for i1 in bin_items_index:\n",
        "      new_items=bin_items_index.copy()\n",
        "      new_items.remove(i1)\n",
        "      for i2 in new_items:\n",
        "        if ((i1,i2)  in data['has_conflicts'].keys()):\n",
        "          if(data['has_conflicts'][(i1,i2)]==1):\n",
        "            # print('conflict')\n",
        "            solver.Add(sum(x[index,bin] for index in [i1,i2])<=1)  \n",
        "        pass\n",
        "      pass\n",
        "    pass\n",
        "  pass\n",
        "\n",
        "\n",
        "\n",
        "  # Objective: minimize the number of bins used.\n",
        "  solver.Minimize(solver.Sum([y[j] for j in data['bins']]))\n",
        "\n",
        "  status = solver.Solve()\n",
        "\n",
        "\n",
        "\n",
        "  if status == pywraplp.Solver.OPTIMAL:\n",
        "    num_bins = 0\n",
        "    for j in data['bins']:\n",
        "        if y[j].solution_value() == 1:\n",
        "            bin_items = []\n",
        "            bin_weight = 0\n",
        "            for i in data['items']:\n",
        "                if x[i, j].solution_value() > 0:\n",
        "                    bin_items.append(i)\n",
        "                    bin_weight += data['weights'][i]\n",
        "            if bin_items:\n",
        "                num_bins += 1\n",
        "                print('Bin number', j)\n",
        "                bin_children=[all_ver[i] for i in bin_items]\n",
        "                print('  Items packed:', bin_children)\n",
        "                plot_vertxs(bin_children)\n",
        "                print('  Total weight:', bin_weight)\n",
        "                print()\n",
        "    print()\n",
        "    print('Number of bins used:', num_bins)\n",
        "    print('Time = ', solver.WallTime(), ' milliseconds')\n",
        "  else:\n",
        "      print('The problem does not have an optimal solution.')"
      ]
    },
    {
      "cell_type": "code",
      "execution_count": 25,
      "metadata": {
        "colab": {
          "base_uri": "https://localhost:8080/",
          "height": 1000
        },
        "id": "uIbO97KO5f54",
        "outputId": "0747c3fc-e688-4f91-a8a5-c7a9cbcfee69"
      },
      "outputs": [
        {
          "name": "stdout",
          "output_type": "stream",
          "text": [
            "01\n",
            "Bin number 0\n",
            "  Items packed: [array([1, 2, 3, 4]), array([2, 3, 4, 6])]\n"
          ]
        },
        {
          "data": {
            "image/png": "[encoded data removed]",
            "text/plain": [
              "<Figure size 432x288 with 1 Axes>"
            ]
          },
          "metadata": {
            "needs_background": "light"
          },
          "output_type": "display_data"
        },
        {
          "name": "stdout",
          "output_type": "stream",
          "text": [
            "  Total weight: 2.0\n",
            "\n",
            "Bin number 1\n",
            "  Items packed: [array([6, 5, 4, 3])]\n"
          ]
        },
        {
          "data": {
            "image/png": "[encoded data removed]",
            "text/plain": [
              "<Figure size 432x288 with 1 Axes>"
            ]
          },
          "metadata": {
            "needs_background": "light"
          },
          "output_type": "display_data"
        },
        {
          "name": "stdout",
          "output_type": "stream",
          "text": [
            "  Total weight: 1.0\n",
            "\n",
            "\n",
            "Number of bins used: 2\n",
            "Time =  451  milliseconds\n",
            "02\n",
            "Bin number 0\n",
            "  Items packed: [array([4, 5, 4])]\n"
          ]
        },
        {
          "data": {
            "image/png": "[encoded data removed]",
            "text/plain": [
              "<Figure size 432x288 with 1 Axes>"
            ]
          },
          "metadata": {
            "needs_background": "light"
          },
          "output_type": "display_data"
        },
        {
          "name": "stdout",
          "output_type": "stream",
          "text": [
            "  Total weight: 1.0\n",
            "\n",
            "Bin number 1\n",
            "  Items packed: [array([4, 4, 6])]\n"
          ]
        },
        {
          "data": {
            "image/png": "[encoded data removed]",
            "text/plain": [
              "<Figure size 432x288 with 1 Axes>"
            ]
          },
          "metadata": {
            "needs_background": "light"
          },
          "output_type": "display_data"
        },
        {
          "name": "stdout",
          "output_type": "stream",
          "text": [
            "  Total weight: 1.0\n",
            "\n",
            "Bin number 2\n",
            "  Items packed: [array([5, 5, 5])]\n"
          ]
        },
        {
          "data": {
            "image/png": "[encoded data removed]",
            "text/plain": [
              "<Figure size 432x288 with 1 Axes>"
            ]
          },
          "metadata": {
            "needs_background": "light"
          },
          "output_type": "display_data"
        },
        {
          "name": "stdout",
          "output_type": "stream",
          "text": [
            "  Total weight: 1.0\n",
            "\n",
            "\n",
            "Number of bins used: 3\n",
            "Time =  421  milliseconds\n",
            "03\n",
            "Bin number 0\n",
            "  Items packed: [array([5, 4]), array([4, 1])]\n"
          ]
        },
        {
          "data": {
            "image/png": "[encoded data removed]",
            "text/plain": [
              "<Figure size 432x288 with 1 Axes>"
            ]
          },
          "metadata": {
            "needs_background": "light"
          },
          "output_type": "display_data"
        },
        {
          "name": "stdout",
          "output_type": "stream",
          "text": [
            "  Total weight: 2.0\n",
            "\n",
            "Bin number 1\n",
            "  Items packed: [array([1, 1]), array([2, 2]), array([4, 4])]\n"
          ]
        },
        {
          "data": {
            "image/png": "[encoded data removed]",
            "text/plain": [
              "<Figure size 432x288 with 1 Axes>"
            ]
          },
          "metadata": {
            "needs_background": "light"
          },
          "output_type": "display_data"
        },
        {
          "name": "stdout",
          "output_type": "stream",
          "text": [
            "  Total weight: 3.0\n",
            "\n",
            "\n",
            "Number of bins used: 2\n",
            "Time =  313  milliseconds\n"
          ]
        }
      ],
      "source": [
        "for item in range(1,4):\n",
        "  path =  str(item).zfill(2)\n",
        "  optimize(*read_file(path))  "
      ]
    },
    {
      "cell_type": "code",
      "execution_count": null,
      "metadata": {
        "id": "8LWjBZjIckej"
      },
      "outputs": [],
      "source": []
    }
  ],
  "metadata": {
    "colab": {
      "provenance": []
    },
    "kernelspec": {
      "display_name": "Python 3",
      "language": "python",
      "name": "python3"
    },
    "language_info": {
      "name": "python",
      "version": "3.10.0 (tags/v3.10.0:b494f59, Oct  4 2021, 19:00:18) [MSC v.1929 64 bit (AMD64)]"
    },
    "vscode": {
      "interpreter": {
        "hash": "e9487f80b5c2735bbc4afc7489ff13f77596a62e20b78908b8eb2e8fe79271a4"
      }
    }
  },
  "nbformat": 4,
  "nbformat_minor": 0
}
