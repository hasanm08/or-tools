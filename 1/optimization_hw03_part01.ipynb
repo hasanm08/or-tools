{
  "cells": [
    {
      "cell_type": "code",
      "execution_count": 1,
      "metadata": {
        "colab": {
          "base_uri": "https://localhost:8080/"
        },
        "id": "l4jgbY6tfBDa",
        "outputId": "2e827b0b-b18c-48a2-fc65-e98214097834"
      },
      "outputs": [
        {
          "name": "stdout",
          "output_type": "stream",
          "text": [
            "Looking in indexes: https://pypi.org/simple, https://us-python.pkg.dev/colab-wheels/public/simple/\n",
            "Requirement already satisfied: ortools in /usr/local/lib/python3.8/dist-packages (9.5.2237)\n",
            "Requirement already satisfied: protobuf>=4.21.5 in /usr/local/lib/python3.8/dist-packages (from ortools) (4.21.12)\n",
            "Requirement already satisfied: numpy>=1.13.3 in /usr/local/lib/python3.8/dist-packages (from ortools) (1.21.6)\n",
            "Requirement already satisfied: absl-py>=0.13 in /usr/local/lib/python3.8/dist-packages (from ortools) (1.3.0)\n"
          ]
        }
      ],
      "source": [
        "%pip install ortools"
      ]
    },
    {
      "cell_type": "code",
      "execution_count": 37,
      "metadata": {
        "id": "gcnJifzgfKpI"
      },
      "outputs": [],
      "source": [
        "import ortools\n",
        "import numpy as np\n",
        "import pandas as pd\n",
        "from ortools.linear_solver import pywraplp\n",
        "\n",
        "# from google.colab import files"
      ]
    },
    {
      "cell_type": "code",
      "execution_count": 65,
      "metadata": {
        "id": "FWk32IiVm9bA"
      },
      "outputs": [],
      "source": [
        "def read_file(path):\n",
        "    print(path)\n",
        "\n",
        "    file = open(path, 'r')\n",
        "    for line in file:\n",
        "        flight_numbers, worker_numbers = line.split()\n",
        "        break\n",
        "        \n",
        "    df = pd.read_csv(path, sep=' ', header=None, skiprows=1)\n",
        "    df.head()\n",
        "    costs=[]\n",
        "    for item in df.to_numpy():\n",
        "      item_costs=[]\n",
        "      for task in item:\n",
        "        if task ==1:\n",
        "          item_costs.append(0)\n",
        "        else:\n",
        "          item_costs.append(100)\n",
        "      costs.append(item_costs)\n",
        "    num_workers = int(worker_numbers)\n",
        "    num_tasks = int(flight_numbers)\n",
        "    return costs,num_workers,num_tasks,path"
      ]
    },
    {
      "cell_type": "code",
      "execution_count": 92,
      "metadata": {
        "id": "xGjPCJDYbCcL"
      },
      "outputs": [],
      "source": [
        "def optimize(costs,num_workers,num_tasks,path):\n",
        "    solver = pywraplp.Solver.CreateSolver('SCIP')\n",
        "\n",
        "    if not solver:\n",
        "        print('solver init error')\n",
        "    # x[j, i] is an array of 0-1 variables, which will be 1\n",
        "    # if worker j is assigned to flight i.\n",
        "    x = {}\n",
        "    for i in range(num_workers):\n",
        "        for j in range(num_tasks):\n",
        "            x[i, j] = solver.IntVar(0, 1, '')\n",
        "    # Each worker is assigned to at most 1 task.\n",
        "    for i in range(num_workers):\n",
        "        solver.Add(solver.Sum([x[i, j] for j in range(num_tasks)]) == 1)\n",
        "\n",
        "    # Each task is assigned to exactly one worker.\n",
        "    for j in range(num_tasks):\n",
        "        solver.Add(solver.Sum([x[i, j] for i in range(num_workers)]) >= 1)\n",
        "    objective_terms = []\n",
        "    for i in range(num_workers):\n",
        "        for j in range(num_tasks):\n",
        "            objective_terms.append(costs[j][i] * x[i, j])\n",
        "    solver.Minimize(solver.Sum(objective_terms))\n",
        "    status = solver.Solve()\n",
        "    result=[]\n",
        "    if status == pywraplp.Solver.OPTIMAL or status == pywraplp.Solver.FEASIBLE:\n",
        "        for i in range(num_workers):\n",
        "            for j in range(num_tasks):\n",
        "                # Test if x[i,j] is 1 (with tolerance for floating point arithmetic).\n",
        "                if x[i, j].solution_value() > 0.5:\n",
        "                    result.append((j,i,-1 if costs[j][i]==100 else 1))\n",
        "                    pass\n",
        "        res_df=pd.DataFrame(result,columns=['Flight','Worker','Assigned'])\n",
        "        # display(res_df)\n",
        "        assign_res=[]\n",
        "        for item in res_df.groupby('Flight').sum()['Assigned'].to_numpy():\n",
        "          if item<0:\n",
        "            assign_res.append(-1)\n",
        "          else:\n",
        "            assign_res.append(item)\n",
        "        print(assign_res)\n",
        "        # print(res_df.groupby('Flight').sum()['Cost'].to_numpy())\n",
        "        # res_df.to_csv(f'{path}-result.csv')\n",
        "        # files.download(f'{path}-result.csv')\n",
        "    else:\n",
        "        print('No solution found.')\n"
      ]
    },
    {
      "cell_type": "code",
      "execution_count": 93,
      "metadata": {
        "colab": {
          "base_uri": "https://localhost:8080/"
        },
        "id": "XYt2pbmLoOqz",
        "outputId": "7287686f-f31e-4686-f541-00f605e2c97e"
      },
      "outputs": [
        {
          "name": "stdout",
          "output_type": "stream",
          "text": [
            "01\n",
            "[2, 1, -1]\n",
            "02\n",
            "[1, 1, 1, 1, 1, 1, 1, 1, 1, 1, 1, 1, 1, 1, 1, 1, 1, 1, 1, 1, 1, 1, 1, 1, 1, 1, 1, 1, 1, 1, 1, 1, 1, 1, 1, 1, 1, 1, 1, 1, 1, 1, 1, 1, 1, 1, 1, 1, 1, 1, 1, 1, 1, 1, 1, 1, 1, 1, 1, 1, 1, 1, 1, 1, 1, 1, 1, 1, 1, 1, 1, 1, 1, 1, 1, 1, 1, 1, 1, 1, 1, 1, 1, 1, 1, 1, 1, 1, 1, 1, 1, 1, 1, 1, 1, 1, 1, 1, 1, 1]\n",
            "03\n",
            "[-1, -1, -1, -1, -1, -1, -1, -1, -1, -1, -1, -1, -1, -1, -1, -1, -1, -1, -1, -1, -1, -1, -1, -1, -1, -1, -1, -1, -1, -1, -1, -1, -1, -1, -1, -1, -1, -1, -1, -1, -1, -1, -1, -1, -1, -1, -1, -1, -1, -1, -1, -1, -1, -1, -1, -1, -1, -1, -1, -1, -1, -1, -1, -1, -1, -1, -1, -1, -1, -1, -1, -1, -1, -1, -1, -1, -1, -1, -1, -1, -1, -1, -1, -1, -1, -1, -1, -1, -1, -1, -1, -1, -1, -1, -1, -1, -1, -1, -1, -1]\n",
            "04\n",
            "[1, 1, 1, 1, 1, 1, 1, 1, 1, 1, 1, 1, 1, 1, 1, 1, 1, 1, 1, 1, 1, 1, 1, 1, 1, 1, 1, 1, 1, 1, 1, 1, 1, 1, 1, 1, 1, 1, 1, 1, 1, 1, 1, 1, 1, 1, 1, 1, 1, 1, 1, 1, 1, 1, 1, 1, 1, 1, 1, 1, 1, 1, 1, 1, 1, 1, 1, 1, 1, 1, 1, 1, 1, 1, 1, 1, 1, 1, 1, 1, 1, 1, 1, 1, 1, 1, 1, 1, 1, 1, 1, 1, 1, 1, 1, 1, 1, 1, 1, 1]\n",
            "05\n",
            "[1, 1, 1, 1, 1, 1, 1, 1, 1, 1, 1, 1, 1, 1, 1, 1, 1, 1, 1, 1, 1, 1, 1, 1, 1, 1, 1, 1, 1, 1, 1, 1, 1, 1, 1, 1, 1, 1, 1, 1, 1, 1, 1, 1, 1, 1, 1, 1, 1, 1, 1, 1, 1, 1, 1, 1, 1, 1, 1, 1, 1, 1, 1, 1, 1, 1, 1, 1, 1, 1, 1, 1, 1, 1, 1, 1, 1, 1, 1, 1, 1, 1, 1, 1, 1, 1, 1, 1, 1, 1, 1, 1, 1, 1, 1, 1, 1, 1, 1, 1]\n",
            "06\n",
            "[1, -1, -1, 1, -1, 1, 1, -1, 1, 1, -1, 1, 1, 1, -1, -1, 1, -1, -1, -1, 1, 1, 1, 1, -1, 1, -1, 1, 1, -1, -1, 1, -1, -1, 1, 1, -1, 1, 1, -1, 1, 1, 1, 1, 1, -1, -1, 1, 1, 1, -1, -1, 1, 1, 1, 1, -1, -1, 1, -1, -1, 1, -1, 1, 1, -1, -1, -1, 1, 1, 1, -1, -1, 1, -1, -1, -1, 1, -1, 1, -1, -1, -1, 1, 1, -1, -1, 1, 1, 1, 1, 1, 1, 1, 1, 1, -1, -1, 1, -1]\n",
            "07\n",
            "[1, 1, 1, 1, 1, 1, 1, 1, 1, 1, 1, 1, 1, 1, 1, 1, 1, 1, 1, 1, 1, 1, 1, 1, 1, 1, 1, 1, 1, 1, 1, 1, 1, 1, 1, 1, 1, 1, 1, 1, 1, 1, 1, 1, 1, 1, 1, 1, 1, 1, 1, 1, 1, 1, 1, 1, 1, 1, 1, 1, 1, 1, 1, 1, 1, 1, 1, 1, 1, 1, 1, 1, 1, 1, 1, 1, 1, 1, 1, 1, 1, 1, 1, 1, 1, 1, 1, 1, 1, 1, 1, 1, 1, 1, 1, 1, 1, 1, 1, 1]\n",
            "08\n",
            "[-1, 1, 1, 1, 2, -1, -1, 1, 2, 1, 1, 1, -1, 1, 2, 1, 1, 1, 1, 1, 4, 1, 1, 1, 1, 1, 2, -1, 2, 3, 4, -1, 1, 3, 3, 5, 6, 2, 2, 1, 3, 1, 6, 5, 4, 3, 2, 3, 4, 1]\n",
            "09\n",
            "No solution found.\n",
            "10\n",
            "No solution found.\n",
            "11\n",
            "[3, 1, 1, 1, -1, 1, 1, 1, -1, 1, -1, 1, 1, 4, 2, 1, 1, -1, 1, 1, 1, 1, 1, -1, 1, 1, 3, -1, 2, 1, 1, 3, 1, 1, 1, -1, 1, 2, 2, 2, 1, 2]\n",
            "12\n",
            "[1, 1, 1, 1, 1, 1, 1, 1, 1, 1, 1, 1, 1, 1, 1, 1, 1, 1, 1, 1, 1, 1, 1, 1, 1, 1, 1, 1, 1, 1, 1, 1, 1, 1, 1, 1, 1, 1, 1, 1, 1, 1, 1, 1, 1, 1, 1, 1, 1, 1, 1, 1, 1, 1, 1, 1, 1, 1, 1, 1, 1, 1, 1, 1, 1, 1, 1, 1, 1, 1, 1, 1, 1, 1, 1, 1, 1, 1, 1, 1, 1, 1, 1, 1, 1, 1, 1, 1, 1, 1, 1, 1, 1, 1, 1, 1, 1, 1, 1, 1]\n",
            "13\n",
            "[1, 1, 1, 1, 1, 1, 1, 1, 1, 1, 2, 1, 1, 1, 1, 1, 1, 1, 1, 1, 1, 1, 1, 3, 3, 2, 1, 3, 1, 1, 5, 1, 2, 1, 3, 1, 3, 2, 4, 1, 3, 3, 6, 2, 3, 3, 6, 3, 4, 6]\n",
            "14\n",
            "No solution found.\n",
            "15\n",
            "No solution found.\n",
            "16\n",
            "[1, 1, 1, 1, 1, 1, 1, 1, 1, 2, 1, 1, 1, 1, 1, 1, 1, 2, 1, 1, 1, 2, 1, 1, 1, 1, 2, 1, 1, 2, 1, 4, 1, 1, 2, 1, 3, 2, 3, 2, 1, 1]\n",
            "17\n",
            "[1, 1, 1, 1, 1, 1, 1, 1, 1, 1, 1, 1, 1, 1, 1, 1, 1, 1, 1, 1, 1, 1, 1, 1, 1, 1, 1, 1, 1, 1, 1, 1, 1, 1, 1, 1, 1, 1, 1, 1, 1, 1, 1, 1, 1, 1, 1, 1, 1, 1, 1, 1, 1, 1, 1, 1, 1, 1, 1, 1, 1, 1, 1, 1, 1, 1, 1, 1, 1, 1, 1, 1, 1, 1, 1, 1, 1, 1, 1, 1, 1, 1, 1, 1, 1, 1, 1, 1, 1, 1, 1, 1, 1, 1, 1, 1, 1, 1, 1, 1]\n",
            "18\n",
            "[1, 1, 1, 1, 1, 1, 1, 1, 1, 1, 1, 1, 1, 1, 1, 1, 1, 1, 1, 1, 1, 1, 1, 1, 1, 1, 1, 1, 1, 1, 1, 1, 1, 1, 1, 1, 1, 1, 1, 1, 1, 3, 1, 1, 5, 3, 8, 5, 15, 18]\n",
            "19\n",
            "No solution found.\n",
            "20\n",
            "No solution found.\n",
            "21\n",
            "[1, 1, 1, 1, 1, 1, 1, 1, 1, 1, 1, 1, 1, 1, 1, 1, 1, 1, 1, 1, 1, 1, 1, 1, 1, 1, 1, 1, 1, 1, 1, 1, 1, 1, 1, 1, 1, 2, 4, 7, 2, 5]\n",
            "22\n",
            "[1, 1, 1, 1, 1, 1, 1, 1, 1, 1, -1, 1, -1, 1, 1, 1, 1, -1, 1, 1, 1, 1, 1, 1, 1, 1, 1, 1, 1, 1, 1, 1, 1, -1, 1, -1, 1, 1, 1, 1, 1, 1, 1, 1, 1, 1, -1, -1, 1, 1, 1, 1, 1, 1, 1, 1, 1, 1, 1, -1, 1, -1, 1, 1, 1, 1, 1, 1, -1, 1, 1, 1, 1, 1, 1, 1, 1, 1, 1, -1, 1, 1, 1, 1, -1, 1, 1, 1, 1, 1, 1, -1, 1, 1, 1, 1, 1, 1, -1, 1]\n",
            "23\n",
            "[1, 1, -1, -1, 1, 1, 1, 2, 2, -1, 2, -1, 1, 1, -1, -1, -1, 1, -1, 1, 1, -1, 2, 1, 2, 3, 2, 3, -1, 1, -1, 2, 1, 1, 1, 2, -1, 1, 1, 2, 2, -1, 3, 2, 1, -1, 1, 1, -1, -1]\n",
            "24\n",
            "No solution found.\n",
            "25\n",
            "No solution found.\n",
            "26\n",
            "[-1, 1, 1, 1, 1, 2, 1, 1, 2, 1, -1, -1, -1, 1, 1, 1, 1, -1, 0, 3, -1, -1, -1, 1, -1, 1, -1, 2, -1, -1, -1, 1, -1, 1, -1, 2, 1, 1, 1, 1, -1, -1]\n",
            "27\n",
            "[1, 1, 1, -1, 1, -1, 1, -1, 1, 1, 1, -1, -1, -1, 1, -1, 1, -1, -1, -1, 1, -1, -1, 1, -1, 1, -1, -1, 1, -1, -1, 1, 1, -1, -1, 1, 1, -1, 1, 1, 1, 1, 1, 1, -1, 1, 1, 1, -1, -1, 1, 1, 1, 1, -1, -1, -1, 1, 1, 1, 1, -1, -1, -1, 1, -1, 1, -1, 1, 1, 1, 1, -1, 1, 1, -1, -1, -1, 1, -1, 1, -1, 1, -1, -1, 1, 1, -1, 1, 1, 1, -1, -1, -1, -1, -1, -1, 1, -1, -1]\n",
            "28\n",
            "[1, -1, 1, 1, -1, -1, -1, -1, -1, -1, 3, 1, -1, -1, -1, 1, -1, 2, -1, -1, 1, 1, 1, -1, -1, 2, 1, 2, -1, 1, 2, 1, 1, 1, -1, 1, 1, -1, -1, -1, -1, 2, 2, 2, 3, -1, -1, -1, -1, -1]\n",
            "29\n",
            "No solution found.\n",
            "30\n",
            "No solution found.\n",
            "31\n",
            "[-1, -1, -1, -1, 1, -1, 1, -1, -1, -1, -1, -1, 1, -1, 1, 2, 2, -1, -1, -1, 1, -1, 1, -1, 1, 1, -1, 1, 1, 1, -1, 1, -1, 1, 1, -1, -1, 1, 1, -1, -1, -1]\n"
          ]
        }
      ],
      "source": [
        "for item in range(1,32):\n",
        "  path =  str(item).zfill(2)\n",
        "  # print(path)\n",
        "  optimize(*read_file(path))\n",
        "\n",
        "    "
      ]
    },
    {
      "cell_type": "code",
      "execution_count": null,
      "metadata": {
        "id": "iIGZJo6-noHe"
      },
      "outputs": [],
      "source": []
    }
  ],
  "metadata": {
    "colab": {
      "provenance": []
    },
    "kernelspec": {
      "display_name": "Python 3",
      "language": "python",
      "name": "python3"
    },
    "language_info": {
      "name": "python",
      "version": "3.10.0 (tags/v3.10.0:b494f59, Oct  4 2021, 19:00:18) [MSC v.1929 64 bit (AMD64)]"
    },
    "vscode": {
      "interpreter": {
        "hash": "e9487f80b5c2735bbc4afc7489ff13f77596a62e20b78908b8eb2e8fe79271a4"
      }
    }
  },
  "nbformat": 4,
  "nbformat_minor": 0
}
